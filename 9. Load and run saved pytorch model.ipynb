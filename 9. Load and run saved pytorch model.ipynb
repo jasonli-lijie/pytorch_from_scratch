{
 "cells": [
  {
   "cell_type": "code",
   "execution_count": 6,
   "metadata": {},
   "outputs": [],
   "source": [
    "import torch\n",
    "import torch.nn as nn\n",
    "import torch.nn.functional as F\n",
    "import numpy as np\n",
    "\n",
    "class Net(nn.Module):\n",
    "    def __init__(self):\n",
    "        super().__init__()\n",
    "        self.conv1 = nn.Conv2d(1,32,5)\n",
    "        self.conv2 = nn.Conv2d(32,64,5)\n",
    "        self.conv3 = nn.Conv2d(64,128,5)\n",
    "        x = torch.randn(50,50).view(-1,1,50,50)\n",
    "        self._to_linear = None\n",
    "        self.convs(x)\n",
    "        \n",
    "        # self.fc1 = nn.Linear ( ??? , 512)\n",
    "        self.fc1 = nn.Linear(self._to_linear,512)\n",
    "        self.fc2 = nn.Linear(512,2)\n",
    "    def convs(self, x):\n",
    "        x = F.max_pool2d(F.relu(self.conv1(x)), (2,2))\n",
    "        x = F.max_pool2d(F.relu(self.conv2(x)), (2,2))\n",
    "        x = F.max_pool2d(F.relu(self.conv3(x)), (2,2))\n",
    "        \n",
    "        if self._to_linear is None:\n",
    "            self._to_linear = x[0].shape[0]*x[0].shape[1]*x[0].shape[2]\n",
    "        return x\n",
    "    def forward (self,x):\n",
    "        x = self.convs(x)\n",
    "        x = x.view(-1, self._to_linear)\n",
    "        x = F.relu(self.fc1(x))\n",
    "        x = self.fc2(x)\n",
    "        return F.softmax(x, dim = 1)"
   ]
  },
  {
   "cell_type": "code",
   "execution_count": 7,
   "metadata": {},
   "outputs": [
    {
     "data": {
      "text/plain": [
       "Net(\n",
       "  (conv1): Conv2d(1, 32, kernel_size=(5, 5), stride=(1, 1))\n",
       "  (conv2): Conv2d(32, 64, kernel_size=(5, 5), stride=(1, 1))\n",
       "  (conv3): Conv2d(64, 128, kernel_size=(5, 5), stride=(1, 1))\n",
       "  (fc1): Linear(in_features=512, out_features=512, bias=True)\n",
       "  (fc2): Linear(in_features=512, out_features=2, bias=True)\n",
       ")"
      ]
     },
     "execution_count": 7,
     "metadata": {},
     "output_type": "execute_result"
    }
   ],
   "source": [
    "import os\n",
    "MODEL_NAME = \"model-1590211477\"\n",
    "PATH = os.path.join(os.getcwd(), MODEL_NAME)\n",
    "model = Net()\n",
    "model.load_state_dict(torch.load(PATH))\n",
    "model.eval()"
   ]
  },
  {
   "cell_type": "code",
   "execution_count": 8,
   "metadata": {},
   "outputs": [
    {
     "name": "stdout",
     "output_type": "stream",
     "text": [
      "Train data length : 24946\n"
     ]
    }
   ],
   "source": [
    "training_data = np.load(\"training_data.npy\", allow_pickle=True)\n",
    "print(\"Train data length :\",len(training_data))"
   ]
  },
  {
   "cell_type": "code",
   "execution_count": 14,
   "metadata": {},
   "outputs": [
    {
     "name": "stdout",
     "output_type": "stream",
     "text": [
      "[tensor(True)]\n",
      "input X in tensor value  tensor([[[0.7020, 0.6627, 0.7294,  ..., 0.4000, 0.6157, 0.4078],\n",
      "         [0.5294, 0.6431, 0.8314,  ..., 0.5843, 0.5098, 0.4431],\n",
      "         [0.5608, 0.6902, 0.4902,  ..., 0.4784, 0.4706, 0.4627],\n",
      "         ...,\n",
      "         [0.3020, 0.1882, 0.5098,  ..., 0.3529, 0.2745, 0.2941],\n",
      "         [0.4392, 0.3490, 0.5294,  ..., 0.3569, 0.2706, 0.1569],\n",
      "         [0.4471, 0.3882, 0.3686,  ..., 0.3686, 0.2157, 0.2784]]])\n",
      "labelled y in tensor  tensor([[0., 1.]])\n",
      "output from the model  tensor([[0.1646, 0.8354]])\n"
     ]
    }
   ],
   "source": [
    "#mocking data coming into the system\n",
    "#input data is in np array\n",
    "index = 25\n",
    "input_X, labelled_y = training_data[index] \n",
    "# convert numpy to tensor - note single tensor should have the dimention [1,50,50]\n",
    "# Note: input_X, labeled_y = test_X[index:index+1],test_y[index:index+1]\n",
    "input_X = torch.Tensor([input_X]).view(-1,50,50)\n",
    "labelled_y = torch.Tensor([labelled_y])\n",
    "# Normalisation value from 0 - 1\n",
    "input_X = input_X / 255.0\n",
    "with torch.no_grad():\n",
    "    outputs = model(input_X.view(-1,1,50,50))\n",
    "\n",
    "match = [torch.argmax(i) == torch.argmax(j) for i,j in zip(outputs,labelled_y)]\n",
    "print(match)\n",
    "print(\"input X in tensor value \", input_X)\n",
    "print(\"labelled y in tensor \", labelled_y)\n",
    "print(\"output from the model \", outputs)\n"
   ]
  },
  {
   "cell_type": "code",
   "execution_count": null,
   "metadata": {},
   "outputs": [],
   "source": []
  }
 ],
 "metadata": {
  "kernelspec": {
   "display_name": "Python 3",
   "language": "python",
   "name": "python3"
  },
  "language_info": {
   "codemirror_mode": {
    "name": "ipython",
    "version": 3
   },
   "file_extension": ".py",
   "mimetype": "text/x-python",
   "name": "python",
   "nbconvert_exporter": "python",
   "pygments_lexer": "ipython3",
   "version": "3.7.6"
  }
 },
 "nbformat": 4,
 "nbformat_minor": 4
}
