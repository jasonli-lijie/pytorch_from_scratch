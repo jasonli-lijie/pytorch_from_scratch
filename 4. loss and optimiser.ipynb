{
 "cells": [
  {
   "cell_type": "code",
   "execution_count": 20,
   "metadata": {},
   "outputs": [],
   "source": [
    "import torch\n",
    "import torchvision\n",
    "from torchvision import transforms, datasets\n",
    "\n",
    "train = datasets.MNIST(\"\", train=True, download=True,\n",
    "                      transform = transforms.Compose([transforms.ToTensor()]))\n",
    "test = datasets.MNIST(\"\", train=False, download=True,\n",
    "                      transform = transforms.Compose([transforms.ToTensor()]))\n",
    "\n",
    "train_set = torch.utils.data.DataLoader(train, batch_size=10, shuffle=True)\n",
    "test_set = torch.utils.data.DataLoader(test, batch_size=10, shuffle=True)"
   ]
  },
  {
   "cell_type": "code",
   "execution_count": 21,
   "metadata": {},
   "outputs": [],
   "source": [
    "#more like object orientated programming\n",
    "import torch.nn as nn\n",
    "#Specific Functions - interchangable with tourch.nn\n",
    "import torch.nn.functional as F\n"
   ]
  },
  {
   "cell_type": "markdown",
   "metadata": {},
   "source": [
    "super corresponds to nn module, running the initilization for nn.Module. When you inherit, you inherit methods and attributes but the initialisation is not run if you want initialisation method to run of your parent class that you are inheriting from you have to run super init\n",
    "fc1 = 1st fully connected layer\n",
    "nnLinear(input, output) -> \n",
    "nnLinear - fully connected\n",
    "   if convolutional neural networks - nnconv\n",
    "we cant pass image -> flatted image with view. Pixels will be in rows\n",
    "input is flattened images -> 28*28\n",
    "making 3 layers of 64 neurons for hidden layers\n",
    "therefore output = 6 or whatever we want\n",
    "output- 10 classes - output layer only has 10 neurons\n",
    "\n",
    "definining path for data to take through these layers\n",
    "feed-forward neural network - data passes in one direction from one side to another\n",
    "\n",
    "data won't be scaled properly without activation function\n",
    "F.relu - recified linear -> running activation function over entire layer\n",
    "    whether or not the neruon is firing like human brain\n",
    "    most activation function is sigmoid (ranges from 0 - 1)\n",
    "    it keeps the outputs of these layers from exploding\n",
    "    can still occur when calculating losses / gradients\n",
    "    activation function runs on the output side of the neuron\n",
    "    output layer - we only want one of the neruons to fully fire\n",
    "        - want a probability distribution on the output\n",
    "        - F log solve max for multi class classification problem\n",
    "            - dimention which we want to apply softmax\n",
    "            - output layer will be a batch of tensor distributions\n",
    "        - dim = 0  distribution across the batches\n",
    "        - dim = 1 - distribution across actul output layer\n",
    "        \n",
    " you can through if logics in forward method to do what ever you want and come up with advanced models, gradients are automatically generated"
   ]
  },
  {
   "cell_type": "code",
   "execution_count": 22,
   "metadata": {},
   "outputs": [
    {
     "name": "stdout",
     "output_type": "stream",
     "text": [
      "Net(\n",
      "  (fc1): Linear(in_features=784, out_features=64, bias=True)\n",
      "  (fc2): Linear(in_features=64, out_features=64, bias=True)\n",
      "  (fc3): Linear(in_features=64, out_features=64, bias=True)\n",
      "  (fc4): Linear(in_features=64, out_features=10, bias=True)\n",
      ")\n"
     ]
    }
   ],
   "source": [
    "class Net(nn.Module):\n",
    "    def __init__(self):\n",
    "        super().__init__()\n",
    "        self.fc1 = nn.Linear(28*28, 64)\n",
    "        self.fc2 = nn.Linear(64, 64)\n",
    "        self.fc3 = nn.Linear(64, 64)\n",
    "        self.fc4 = nn.Linear(64, 10)\n",
    "    def forward(self,x):\n",
    "        x = F.relu(self.fc1(x))\n",
    "        x = F.relu(self.fc2(x))\n",
    "        x = F.relu(self.fc3(x))\n",
    "        x = self.fc4(x)\n",
    "        return F.softmax(x,dim=1)\n",
    "    \n",
    "net = Net()\n",
    "print(net)"
   ]
  },
  {
   "cell_type": "markdown",
   "metadata": {},
   "source": [
    "    Inserting data into our model\n",
    "    -1 specifices these input will be unknown shape i.e. any size (be prepared for any size data)\n",
    "    \n",
    "    grad_fn -> LogSoftmaxBackward"
   ]
  },
  {
   "cell_type": "code",
   "execution_count": 23,
   "metadata": {},
   "outputs": [
    {
     "name": "stdout",
     "output_type": "stream",
     "text": [
      "[tensor([[[[0., 0., 0.,  ..., 0., 0., 0.],\n",
      "          [0., 0., 0.,  ..., 0., 0., 0.],\n",
      "          [0., 0., 0.,  ..., 0., 0., 0.],\n",
      "          ...,\n",
      "          [0., 0., 0.,  ..., 0., 0., 0.],\n",
      "          [0., 0., 0.,  ..., 0., 0., 0.],\n",
      "          [0., 0., 0.,  ..., 0., 0., 0.]]],\n",
      "\n",
      "\n",
      "        [[[0., 0., 0.,  ..., 0., 0., 0.],\n",
      "          [0., 0., 0.,  ..., 0., 0., 0.],\n",
      "          [0., 0., 0.,  ..., 0., 0., 0.],\n",
      "          ...,\n",
      "          [0., 0., 0.,  ..., 0., 0., 0.],\n",
      "          [0., 0., 0.,  ..., 0., 0., 0.],\n",
      "          [0., 0., 0.,  ..., 0., 0., 0.]]],\n",
      "\n",
      "\n",
      "        [[[0., 0., 0.,  ..., 0., 0., 0.],\n",
      "          [0., 0., 0.,  ..., 0., 0., 0.],\n",
      "          [0., 0., 0.,  ..., 0., 0., 0.],\n",
      "          ...,\n",
      "          [0., 0., 0.,  ..., 0., 0., 0.],\n",
      "          [0., 0., 0.,  ..., 0., 0., 0.],\n",
      "          [0., 0., 0.,  ..., 0., 0., 0.]]],\n",
      "\n",
      "\n",
      "        ...,\n",
      "\n",
      "\n",
      "        [[[0., 0., 0.,  ..., 0., 0., 0.],\n",
      "          [0., 0., 0.,  ..., 0., 0., 0.],\n",
      "          [0., 0., 0.,  ..., 0., 0., 0.],\n",
      "          ...,\n",
      "          [0., 0., 0.,  ..., 0., 0., 0.],\n",
      "          [0., 0., 0.,  ..., 0., 0., 0.],\n",
      "          [0., 0., 0.,  ..., 0., 0., 0.]]],\n",
      "\n",
      "\n",
      "        [[[0., 0., 0.,  ..., 0., 0., 0.],\n",
      "          [0., 0., 0.,  ..., 0., 0., 0.],\n",
      "          [0., 0., 0.,  ..., 0., 0., 0.],\n",
      "          ...,\n",
      "          [0., 0., 0.,  ..., 0., 0., 0.],\n",
      "          [0., 0., 0.,  ..., 0., 0., 0.],\n",
      "          [0., 0., 0.,  ..., 0., 0., 0.]]],\n",
      "\n",
      "\n",
      "        [[[0., 0., 0.,  ..., 0., 0., 0.],\n",
      "          [0., 0., 0.,  ..., 0., 0., 0.],\n",
      "          [0., 0., 0.,  ..., 0., 0., 0.],\n",
      "          ...,\n",
      "          [0., 0., 0.,  ..., 0., 0., 0.],\n",
      "          [0., 0., 0.,  ..., 0., 0., 0.],\n",
      "          [0., 0., 0.,  ..., 0., 0., 0.]]]]), tensor([8, 0, 7, 0, 8, 6, 1, 0, 4, 2])]\n"
     ]
    }
   ],
   "source": [
    "#showing the data. firstly shown the actual data 28 x 28 and then the result in a batch of 10\n",
    "for data in train_set:\n",
    "    print(data)\n",
    "    break"
   ]
  },
  {
   "cell_type": "code",
   "execution_count": 25,
   "metadata": {},
   "outputs": [],
   "source": [
    "X = torch.rand((28,28))\n",
    "X = X.view(-1,28*28)\n",
    "output = net(X)"
   ]
  },
  {
   "cell_type": "code",
   "execution_count": 26,
   "metadata": {},
   "outputs": [
    {
     "data": {
      "text/plain": [
       "tensor([[0.1092, 0.1036, 0.0915, 0.0923, 0.0880, 0.0951, 0.1088, 0.1048, 0.1038,\n",
       "         0.1027]], grad_fn=<SoftmaxBackward>)"
      ]
     },
     "execution_count": 26,
     "metadata": {},
     "output_type": "execute_result"
    }
   ],
   "source": [
    "output"
   ]
  },
  {
   "cell_type": "markdown",
   "metadata": {},
   "source": [
    "loss - Measure of how wrong is the model. \n",
    "Goal is to decrease loss.\n",
    "model isnt 100% confidnet - not totally correct. we want it to be 100% correct\n",
    "\n",
    "Optimiser - go through and adjust the weights based on the loss, gradients\n",
    "    - adjust all the possible weights that it can adjust such a way to lower the cost \n",
    "    - learning rate\n",
    "    - imagery of learning rate\n",
    "net.parameter - everything that is adjustable\n",
    "learning rate - lr\n",
    "    - dictates the size of the step that your optimizer will take to get to the minimum loss\n",
    "    - not caluclating the perfect cost fucntion where loss = 0 on each batch of data because of over fitting\n",
    "    - learning rate to tell optimizer - optimize to lower the loss but only take certain size steps, and then over time as you take those steps , the parameters might get overwritten, and what remains batch after batch will be the actual general principles.\n",
    "    - if learning rate is too big, it's never going to get to the optimal opint\n",
    "    - if learning rate is too small, it will get stuck\n",
    "    - choosing the right learning step - no method to find it\n",
    "    -decaying learning rate - learning rate gets smaller and smaller\n",
    "    \n",
    "To do:\n",
    "Calculate loss based on the output - model output vs targeted / desired output and calculate how wrong is this and apply this back to the entire network to adjust the weights based on the loss and keep passing data and optimise loss\n",
    "\n",
    "EPOCHS - iterations overall all of our data and pass it through the model, but also want to iterate at least a few time through our data. a full pass through of the data.\n",
    "Whole passes through our entire dataset\n",
    "\n",
    "Batches - law of diminishing returns - helps to generalise\n",
    "gradiant - starts at zero everytime or it will get added together every batch\n",
    "    - gradiant contains your loss - how wrong are you\n",
    "    - optimiser goes through these gradiants to optimize these weights i.e. net zero grab"
   ]
  },
  {
   "cell_type": "code",
   "execution_count": 27,
   "metadata": {},
   "outputs": [
    {
     "name": "stdout",
     "output_type": "stream",
     "text": [
      "tensor(-0.8231, grad_fn=<NllLossBackward>)\n",
      "tensor(-1.0000, grad_fn=<NllLossBackward>)\n",
      "tensor(-1., grad_fn=<NllLossBackward>)\n"
     ]
    }
   ],
   "source": [
    "import torch.optim as optim\n",
    "\n",
    "optimizer = optim.Adam(net.parameters(), lr=0.001)\n",
    "\n",
    "EPOCHS = 3\n",
    "\n",
    "for epoch in range(EPOCHS):\n",
    "    for data in train_set:\n",
    "        #data is a batch of feature sets and labels i.e. target for classification\n",
    "        X, y = data\n",
    "        #print(X[0]) # rows of pixel\n",
    "        #print(y[0]) # labeled / target result\n",
    "        #before you pass your data through your nerual network, you want to zero gradiant\n",
    "        net.zero_grad()\n",
    "        # calculated model output\n",
    "        output = net(X.view(-1, 28*28))\n",
    "        #now calculate loss\n",
    "        # two ways of calculating loss\n",
    "        #one hot vector - optimal model output is 1 value within the output vector is 1 and others are 0\n",
    "        # usually if labelled data is a one hot vector -> use mean square error\n",
    "        # labeled data y is not a vector -> cannot use mean square error\n",
    "        loss = F.nll_loss(output,y)\n",
    "        #back propagate the loss\n",
    "        loss.backward()\n",
    "        #adjust the weights for us\n",
    "        optimizer.step()\n",
    "    print(loss)\n"
   ]
  },
  {
   "cell_type": "code",
   "execution_count": 29,
   "metadata": {},
   "outputs": [
    {
     "name": "stdout",
     "output_type": "stream",
     "text": [
      "Accuracy:  0.948\n"
     ]
    }
   ],
   "source": [
    "correct = 0\n",
    "total = 0\n",
    "\n",
    "#we dont want to count gradiants here - we just want to know how good is the network at this point:\n",
    "with torch.no_grad():\n",
    "    for data in test_set:\n",
    "        X,y = data\n",
    "        output = net(X.view(-1, 28*28))\n",
    "        for idx, i in enumerate(output):\n",
    "            if torch.argmax(i) == y[idx]:\n",
    "                correct += 1\n",
    "            total += 1\n",
    "print(\"Accuracy: \", round(correct/total, 3))"
   ]
  },
  {
   "cell_type": "code",
   "execution_count": 39,
   "metadata": {},
   "outputs": [
    {
     "data": {
      "image/png": "[encoded data removed]",
      "text/plain": [
       "<Figure size 432x288 with 1 Axes>"
      ]
     },
     "metadata": {
      "needs_background": "light"
     },
     "output_type": "display_data"
    },
    {
     "name": "stdout",
     "output_type": "stream",
     "text": [
      "tensor(8, grad_fn=<NotImplemented>)\n"
     ]
    }
   ],
   "source": [
    "import matplotlib.pyplot as plt\n",
    "index_batch = 7\n",
    "plt.imshow(X[index_batch].view(28,28))\n",
    "plt.show()\n",
    "print(torch.argmax(net(X[index_batch].view(-1,28*28))[0]))"
   ]
  },
  {
   "cell_type": "code",
   "execution_count": null,
   "metadata": {},
   "outputs": [],
   "source": []
  }
 ],
 "metadata": {
  "kernelspec": {
   "display_name": "Python 3",
   "language": "python",
   "name": "python3"
  },
  "language_info": {
   "codemirror_mode": {
    "name": "ipython",
    "version": 3
   },
   "file_extension": ".py",
   "mimetype": "text/x-python",
   "name": "python",
   "nbconvert_exporter": "python",
   "pygments_lexer": "ipython3",
   "version": "3.7.6"
  }
 },
 "nbformat": 4,
 "nbformat_minor": 4
}
