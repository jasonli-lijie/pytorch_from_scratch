{
 "cells": [
  {
   "cell_type": "markdown",
   "metadata": {},
   "source": [
    "Convolutional Neural Network > Recurral Nerual Network in sequential types of data\n",
    "Convolutional Neural network accepts 2D input, 3D inputs\n",
    "convolution Kernal - windows\n",
    "first layer of convolution filters - tend to find things lik edges or curves \n",
    "    looking at combinations of pixels i.e. why it only finds corner or edge\n",
    "next layer - more complex features that edges and curves build \n",
    "    i.e. circle square\n",
    "next layer find combination of cirlces and squares (a bit more complicated)\n",
    "kernal slides window over the entire image and contensing the image\n",
    "after doing convolution - ne condensed version of image\n",
    "Pooling - pooling has a window like nernal\n",
    "Max pooling - inside the kernal takes the maximum value\n",
    "summary - convolutional network - drastically simplifying your image and looks for features of the image.\n",
    "Generally you will have 2-4 layers of the convolutional layers\n",
    "CNN - reducing your image to basic building blocks and then find patterns of those blocks given how many layers you have\n"
   ]
  },
  {
   "cell_type": "code",
   "execution_count": 19,
   "metadata": {},
   "outputs": [
    {
     "name": "stderr",
     "output_type": "stream",
     "text": [
      "  1%|          | 127/12501 [00:00<00:09, 1268.85it/s]"
     ]
    },
    {
     "name": "stdout",
     "output_type": "stream",
     "text": [
      "directory:  kagglecatsanddogs_3367a/PetImages/Cat\n"
     ]
    },
    {
     "name": "stderr",
     "output_type": "stream",
     "text": [
      "100%|██████████| 12501/12501 [00:09<00:00, 1272.36it/s]\n",
      "  1%|          | 108/12501 [00:00<00:11, 1079.02it/s]"
     ]
    },
    {
     "name": "stdout",
     "output_type": "stream",
     "text": [
      "directory:  kagglecatsanddogs_3367a/PetImages/Dog\n"
     ]
    },
    {
     "name": "stderr",
     "output_type": "stream",
     "text": [
      "100%|██████████| 12501/12501 [00:10<00:00, 1181.88it/s]\n"
     ]
    },
    {
     "name": "stdout",
     "output_type": "stream",
     "text": [
      "Cats: 12476\n",
      "Dogs: 12470\n"
     ]
    }
   ],
   "source": [
    "import os\n",
    "import cv2\n",
    "import numpy as np\n",
    "from tqdm import tqdm\n",
    "\n",
    "#in your pre-processing dataset you dont want to build data everytime you run your code\n",
    "REBUILD_DATA = True\n",
    "\n",
    "class DogsVSCats():\n",
    "    #first, specify the size of the image i.e. 50 by 50\n",
    "    #input images vary in sizes and shape (some are portrait, some are landscape) - we need them to uniform on input\n",
    "    # normalised to the same size\n",
    "    # resizing the images or resize and pad (adding white / black pixels on smaller images with open cv)\n",
    "    #shift over and crop the image, rotate or flip them\n",
    "    IMG_SIZE = 50\n",
    "    CATS = \"kagglecatsanddogs_3367a/PetImages/Cat\"\n",
    "    DOGS = \"kagglecatsanddogs_3367a/PetImages/Dog\"\n",
    "    #Pre-labelled data\n",
    "    LABELS ={CATS: 0, DOGS: 1}\n",
    "    # massive list of images with their label\n",
    "    training_data = []\n",
    "    cat_count = 0\n",
    "    dog_count = 0\n",
    "        \n",
    "    def make_training_data(self):\n",
    "        for label in self.LABELS:\n",
    "            print(\"directory: \",label)\n",
    "            #looping all the images in the directory\n",
    "            for f in tqdm(os.listdir(label)):\n",
    "                try:\n",
    "                    path = os.path.join(label,f)\n",
    "                    #convert to grayscale - don't have to in CNN compared to FF NN\n",
    "                    #Dense layer or a linear layer / full connected layer will require you to pass flattened data\n",
    "                    # creating a 2D Convolution Neural Network\n",
    "                    # color doesn't add another dimention - color adds channels - added data we don't need\n",
    "                    # is color a relavant feature or defiant\n",
    "                    # things that are different between cat and dogs are patterns\n",
    "                    # always simplify nerual networks & smaller possible\n",
    "                    img = cv2.imread(path,cv2.IMREAD_GRAYSCALE)\n",
    "                    img = cv2.resize(img, (self.IMG_SIZE, self.IMG_SIZE))\n",
    "                    #labelled data to one hot vector from scaler\n",
    "                    self.training_data.append([np.array(img), np.eye(2)[self.LABELS[label]]])\n",
    "\n",
    "                    # Any one class should be relatively close to the other one in count\n",
    "                    # if one class dominates the data - nerual network is going to optimise that one class and get stuck\n",
    "                    if label == self.CATS:\n",
    "                        self.cat_count += 1\n",
    "                    elif label == self.DOGS:\n",
    "                        self.dog_count += 1\n",
    "                except Exception as e:\n",
    "                    pass\n",
    "                    #print(str(e))\n",
    "                    \n",
    "        np.random.shuffle(self.training_data)\n",
    "        np.save(\"training_data.npy\", self.training_data)\n",
    "        print(\"Cats:\", self.cat_count)\n",
    "        print(\"Dogs:\", self.dog_count)\n",
    "\n",
    "if REBUILD_DATA:\n",
    "    dogsvcats = DogsVSCats()\n",
    "    dogsvcats.make_training_data()\n",
    "            \n",
    "    "
   ]
  },
  {
   "cell_type": "code",
   "execution_count": 8,
   "metadata": {},
   "outputs": [
    {
     "name": "stdout",
     "output_type": "stream",
     "text": [
      "24946\n"
     ]
    }
   ],
   "source": [
    "training_data = np.load(\"training_data.npy\", allow_pickle=True)\n",
    "print(len(training_data))"
   ]
  },
  {
   "cell_type": "code",
   "execution_count": 11,
   "metadata": {},
   "outputs": [
    {
     "name": "stdout",
     "output_type": "stream",
     "text": [
      "[array([[173, 174, 118, ...,  59,  86,  25],\n",
      "       [169,  49,  43, ...,  53,  85,  62],\n",
      "       [ 46,  44,  46, ...,  87, 133,  82],\n",
      "       ...,\n",
      "       [142, 144, 139, ..., 183, 175, 174],\n",
      "       [148, 152, 147, ..., 182, 176, 175],\n",
      "       [138, 140, 139, ..., 179, 182, 176]], dtype=uint8)\n",
      " array([0., 1.])]\n"
     ]
    }
   ],
   "source": [
    "print(training_data[5])"
   ]
  },
  {
   "cell_type": "code",
   "execution_count": 18,
   "metadata": {},
   "outputs": [
    {
     "data": {
      "image/png": "[encoded data removed]",
      "text/plain": [
       "<Figure size 432x288 with 1 Axes>"
      ]
     },
     "metadata": {
      "needs_background": "light"
     },
     "output_type": "display_data"
    },
    {
     "name": "stdout",
     "output_type": "stream",
     "text": [
      "[1. 0.]\n"
     ]
    }
   ],
   "source": [
    "import matplotlib.pyplot as plt\n",
    "index = 6\n",
    "plt.imshow(training_data[index][0], cmap= \"gray\")\n",
    "plt.show()\n",
    "print(training_data[index][1])"
   ]
  },
  {
   "cell_type": "code",
   "execution_count": null,
   "metadata": {},
   "outputs": [],
   "source": []
  }
 ],
 "metadata": {
  "kernelspec": {
   "display_name": "Python 3",
   "language": "python",
   "name": "python3"
  },
  "language_info": {
   "codemirror_mode": {
    "name": "ipython",
    "version": 3
   },
   "file_extension": ".py",
   "mimetype": "text/x-python",
   "name": "python",
   "nbconvert_exporter": "python",
   "pygments_lexer": "ipython3",
   "version": "3.7.6"
  }
 },
 "nbformat": 4,
 "nbformat_minor": 4
}
