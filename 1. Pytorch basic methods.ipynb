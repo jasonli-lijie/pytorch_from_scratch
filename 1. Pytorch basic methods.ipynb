{
 "cells": [
  {
   "cell_type": "code",
   "execution_count": 1,
   "metadata": {},
   "outputs": [
    {
     "name": "stdout",
     "output_type": "stream",
     "text": [
      "tensor([10.,  3.])\n"
     ]
    }
   ],
   "source": [
    "import torch\n",
    "\n",
    "#Tensor is a multi-dimentional array that can use GPU - reason for this is numpy doesn't use GPU\n",
    "x = torch.Tensor([5,3])\n",
    "y = torch.Tensor([2,1])\n",
    "\n",
    "print(x*y)"
   ]
  },
  {
   "cell_type": "code",
   "execution_count": 5,
   "metadata": {},
   "outputs": [
    {
     "name": "stdout",
     "output_type": "stream",
     "text": [
      "tensor([[0., 0., 0., 0., 0.],\n",
      "        [0., 0., 0., 0., 0.]])\n",
      "torch.Size([2, 5])\n",
      "tensor([[0.5488, 0.8823, 0.1592, 0.8813, 0.3452],\n",
      "        [0.8587, 0.3030, 0.8220, 0.7036, 0.4817]])\n"
     ]
    }
   ],
   "source": [
    "# torch variant of numpy\n",
    "x = torch.zeros([2,5])\n",
    "print(x)\n",
    "print(x.shape)\n",
    "\n",
    "\n",
    "y = torch.rand([2,5])\n",
    "print(y)"
   ]
  },
  {
   "cell_type": "code",
   "execution_count": 7,
   "metadata": {},
   "outputs": [
    {
     "name": "stdout",
     "output_type": "stream",
     "text": [
      "tensor([[0.5488, 0.8823, 0.1592, 0.8813, 0.3452, 0.8587, 0.3030, 0.8220, 0.7036,\n",
      "         0.4817]])\n"
     ]
    }
   ],
   "source": [
    "#Numpy Reshape -> View\n",
    "#Flatten operation - used in Nerual networks to 1 by 10 array rather than 2 by 5 array\n",
    "y_flattened = y.view([1,10])\n",
    "print(y_flattened)"
   ]
  },
  {
   "cell_type": "code",
   "execution_count": null,
   "metadata": {},
   "outputs": [],
   "source": []
  }
 ],
 "metadata": {
  "kernelspec": {
   "display_name": "Python 3",
   "language": "python",
   "name": "python3"
  },
  "language_info": {
   "codemirror_mode": {
    "name": "ipython",
    "version": 3
   },
   "file_extension": ".py",
   "mimetype": "text/x-python",
   "name": "python",
   "nbconvert_exporter": "python",
   "pygments_lexer": "ipython3",
   "version": "3.7.6"
  }
 },
 "nbformat": 4,
 "nbformat_minor": 4
}
